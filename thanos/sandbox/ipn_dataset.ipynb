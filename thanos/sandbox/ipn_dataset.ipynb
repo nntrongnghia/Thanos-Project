{
 "cells": [
  {
   "cell_type": "code",
   "execution_count": 1,
   "id": "b59018f2-3b1f-42be-a847-b1af064e67fd",
   "metadata": {},
   "outputs": [],
   "source": [
    "import cv2\n",
    "import torch\n",
    "import os\n",
    "import numpy as np\n",
    "from torch.utils.data import DataLoader\n",
    "import torchvision.transforms as T\n",
    "from thanos.dataset import (\n",
    "    IPN, binary_label_transform, \n",
    "    IPN_HAND_ROOT, INPUT_MEAN, INPUT_STD)\n",
    "\n",
    "from thanos.trainers.data_augmentation import ( \n",
    "    get_temporal_transform_fn,\n",
    "    get_train_spatial_transform_fn,\n",
    "    get_val_spatial_transform_fn)"
   ]
  },
  {
   "cell_type": "code",
   "execution_count": 2,
   "id": "37afdc27-6df1-4383-93f8-24c5bde6a474",
   "metadata": {},
   "outputs": [],
   "source": [
    "ann_path = os.path.join(IPN_HAND_ROOT, \"annotations\", \"ipnall.json\")"
   ]
  },
  {
   "cell_type": "code",
   "execution_count": 4,
   "id": "cfdf1db2-de77-4f62-9a60-f2e82308e6a0",
   "metadata": {},
   "outputs": [
    {
     "name": "stdout",
     "output_type": "stream",
     "text": [
      "[INFO]: IPN Dataset - training is loading...\n"
     ]
    },
    {
     "name": "stderr",
     "output_type": "stream",
     "text": [
      "100%|██████████████████████████████████████████████████████████████████████████████████████████████████████████████████| 4039/4039 [00:00<00:00, 28123.90it/s]\n"
     ]
    }
   ],
   "source": [
    "ipn = IPN(IPN_HAND_ROOT, ann_path, \"training\",\n",
    "        spatial_transform=get_train_spatial_transform_fn(), \n",
    "        temporal_transform=get_temporal_transform_fn(16),\n",
    "        target_transform=binary_label_transform)\n",
    "dataloader = DataLoader(ipn, batch_size=8, shuffle=True)"
   ]
  },
  {
   "cell_type": "code",
   "execution_count": 9,
   "id": "55512bdb-0082-43e3-8f46-2c3bbee33e2f",
   "metadata": {},
   "outputs": [],
   "source": [
    "sequences, targets = next(iter(dataloader))"
   ]
  },
  {
   "cell_type": "code",
   "execution_count": 13,
   "id": "e5ab7a39-ab78-41ae-9570-b21a50bfd84a",
   "metadata": {},
   "outputs": [
    {
     "name": "stdout",
     "output_type": "stream",
     "text": [
      "torch.Size([8, 16, 3, 240, 240])\n",
      "torch.Size([8])\n"
     ]
    }
   ],
   "source": [
    "print(sequences.shape)\n",
    "print(targets.shape)"
   ]
  },
  {
   "cell_type": "code",
   "execution_count": null,
   "id": "1892784e-abcc-4c2a-bc06-ea0aeb51aac1",
   "metadata": {},
   "outputs": [],
   "source": []
  }
 ],
 "metadata": {
  "kernelspec": {
   "display_name": "pytorch1.9",
   "language": "python",
   "name": "pytorch1.9"
  },
  "language_info": {
   "codemirror_mode": {
    "name": "ipython",
    "version": 3
   },
   "file_extension": ".py",
   "mimetype": "text/x-python",
   "name": "python",
   "nbconvert_exporter": "python",
   "pygments_lexer": "ipython3",
   "version": "3.8.11"
  }
 },
 "nbformat": 4,
 "nbformat_minor": 5
}
